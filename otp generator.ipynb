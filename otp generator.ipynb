{
 "cells": [
  {
   "cell_type": "code",
   "execution_count": null,
   "id": "b30cdb1a",
   "metadata": {},
   "outputs": [],
   "source": [
    "def project():\n",
    "    import random as r\n",
    "    import string as s\n",
    "    number=s.digits\n",
    "    upper=s.ascii_uppercase\n",
    "    lower=s.ascii_lowercase\n",
    "    #print(otp)\n",
    "    #print(l)\n",
    "    while True:\n",
    "        num=input('enter mobile number:- ')\n",
    "        if num.isdigit():\n",
    "            if len(num)==10:\n",
    "                break\n",
    "            else:\n",
    "                print('ooops!enter valid number')\n",
    "        else:\n",
    "            print('ooops! enter valid number')\n",
    "    l=[]\n",
    "    l.extend(list(number))\n",
    "    l.extend(list(upper))\n",
    "    l.extend(list(lower))\n",
    "    r.shuffle(l)\n",
    "    z=''.join(r.sample(l,k=4))\n",
    "    print(f'your otp is :- {z}')\n",
    "project()"
   ]
  },
  {
   "cell_type": "code",
   "execution_count": null,
   "id": "54d7f48f",
   "metadata": {},
   "outputs": [],
   "source": []
  },
  {
   "cell_type": "code",
   "execution_count": null,
   "id": "880f9faa",
   "metadata": {},
   "outputs": [],
   "source": []
  }
 ],
 "metadata": {
  "kernelspec": {
   "display_name": "Python 3 (ipykernel)",
   "language": "python",
   "name": "python3"
  },
  "language_info": {
   "codemirror_mode": {
    "name": "ipython",
    "version": 3
   },
   "file_extension": ".py",
   "mimetype": "text/x-python",
   "name": "python",
   "nbconvert_exporter": "python",
   "pygments_lexer": "ipython3",
   "version": "3.9.12"
  }
 },
 "nbformat": 4,
 "nbformat_minor": 5
}
